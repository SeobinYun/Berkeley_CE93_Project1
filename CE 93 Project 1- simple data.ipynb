{
 "cells": [
  {
   "cell_type": "markdown",
   "id": "3cd98910-d4db-4db7-8110-85f8e3a58a47",
   "metadata": {},
   "source": [
    "# CE 93: Engineering Data Analysis \n",
    "# Fertility Rate and Life Expectancy Among Countries"
   ]
  },
  {
   "cell_type": "markdown",
   "id": "732a6d45-9116-475b-9a18-b8811a568528",
   "metadata": {},
   "source": [
    "##### By: *Seobin Yun* and *Connor Clark*"
   ]
  },
  {
   "cell_type": "markdown",
   "id": "8dbde039-b17c-481a-bdf2-fcd42692e0b1",
   "metadata": {},
   "source": [
    "## Libraries Required for Exploratory Data Analysis (EDA)\n",
    "\n",
    "The code that follows loads in the necessary libraries for analysis"
   ]
  },
  {
   "cell_type": "code",
   "execution_count": 1,
   "id": "204212b7-d948-4b5a-8a00-e1f20a031289",
   "metadata": {},
   "outputs": [],
   "source": [
    "# import python library / packages \n",
    "import numpy as np                                 # ndarrays for gridded data\n",
    "import pandas as pd                                # DataFrames for tabular data\n",
    "import matplotlib.pyplot as plt                    # plotting\n",
    "import random                                      # random sampling\n",
    "from scipy.stats import *                          # common distributions, t-test\n",
    "import statistics as stats                         # statistics like mode\n",
    "from sklearn.linear_model import LinearRegression  # linear regression\n",
    "import statsmodels.api as sm                       # linear regression"
   ]
  },
  {
   "cell_type": "markdown",
   "id": "c8fa22d7-3070-401b-b654-1614eb35df62",
   "metadata": {},
   "source": [
    "## Introduction\n",
    "\n",
    "In recent years, earth can expect to introduce an astonishing 140 million newborns to the new world! Without proper context, one might assume this number to be extremely large or extremely small, depending on who you ask. Nonetheless, certain variables should be considered when discussing the topic of newborns each year, which we will refer to as **fertility rate**. The variable we will focus on in relation to the fertility rate will be **life expectancy**. In this report, we will analyze the potential relationship between life expectancy and fertility rate within the United States for given years. \n",
    "\n",
    "\n",
    "Firstly, let's define our variables to better understand the quantity assigned to each variable. Fertility rate is define as the number of births per woman, while the life expectancy is defined as the expected amount of years for that newborn to live. To set up such a relationship, we have selected two data sets, both from the CE93 Data Summaries spreadsheet: (1) Fertility Rate (births) and (2) Average Life Expectancy (yr). The data can be observed or downloaded into a CSV file by visiting the gapminder website (https://www.gapminder.org/data/), where both datasets have the year, as columns, along the x-axis, and the country, as rows, along the y-axis, with corresponding values in each cell. Along with the data itself, the site provides sources from which data was collected to compile the data set itself. \n",
    "\n",
    "\n",
    "We have shown an idea of what you can expect from the datasets below. As one can observe, the common variable between both data sets is the country along with the corresponding year, which is where we will perform our analysis.\n",
    "\n",
    "\n",
    "|Country|1960|1961|1962|...|2021|\n",
    "|:-|:-|:-|:-|:-|:-|\n",
    "|Aruba|(fertility rate / life expectancy)|(fertility rate / life expectancy)|(fertility rate / life expectancy)|...|(fertility rate / life expectancy)|\n",
    "|Afghanistan|(fertility rate / life expectancy)|(fertility rate / life expectancy)|(fertility rate / life expectancy)|...|(fertility rate / life expectancy)|\n",
    "|Angola|(fertility rate / life expectancy)|(fertility rate / life expectancy)|(fertility rate / life expectancy)|...|(fertility rate / life expectancy)|\n",
    "|...|\n"
   ]
  },
  {
   "cell_type": "markdown",
   "id": "51a2d279-47e4-48b9-b07a-4ce9f2373346",
   "metadata": {},
   "source": [
    "### Fertility Rate\n",
    "Here, we show the actual data from the csv file below. To make coding and analysis easier, we have named the csv file for the fertility rate, *ferility*. Just at a glance, we see that the years, along the x-axis, range from 1960 to 2021, while the country, along the y-axis, includes every country in the world. In another cell, we have included the shape of the data set, which is simply an output of two numbers in a tuple type. The first number in the tuple represents the number of rows in the data set, and the second number represents the number of columns in the data set. "
   ]
  },
  {
   "cell_type": "markdown",
   "id": "f8102d62-ad71-4d79-a576-20d8ca167d5a",
   "metadata": {},
   "source": [
    "### Life Expectancy\n",
    "Similarily, we have shown the actual data for the life expectancy csv file below, and have named the variable *life*. Again, we see that the years range from 1960 to 2021 along the x-axis, and the countries align with a single row along the y-axis. However, upon inspection, we see that the data sets do not perfectly align. While the number of columns between both sets match up, the number of rows do not, where the fertility rate data set has 213 rows and the life expectancy data set has 212 rows. Looking through csv file on gapminder, we see that Andorra is the perpetrator, as it only contains data for a limited amount of years in the fertility rate data set, and has been completely excluded in the life expectancy data set. For our analysis, this will not affect our results. "
   ]
  },
  {
   "cell_type": "code",
   "execution_count": 11,
   "id": "3a7ba620-68df-4872-81b5-e84f282e386c",
   "metadata": {},
   "outputs": [
    {
     "data": {
      "text/html": [
       "<div>\n",
       "<style scoped>\n",
       "    .dataframe tbody tr th:only-of-type {\n",
       "        vertical-align: middle;\n",
       "    }\n",
       "\n",
       "    .dataframe tbody tr th {\n",
       "        vertical-align: top;\n",
       "    }\n",
       "\n",
       "    .dataframe thead th {\n",
       "        text-align: right;\n",
       "    }\n",
       "</style>\n",
       "<table border=\"1\" class=\"dataframe\">\n",
       "  <thead>\n",
       "    <tr style=\"text-align: right;\">\n",
       "      <th></th>\n",
       "      <th>country</th>\n",
       "      <th>Fertility_rate(births)</th>\n",
       "      <th>Life_expectancy(yr)</th>\n",
       "    </tr>\n",
       "  </thead>\n",
       "  <tbody>\n",
       "    <tr>\n",
       "      <th>0</th>\n",
       "      <td>Afghanistan</td>\n",
       "      <td>4.04</td>\n",
       "      <td>63.4</td>\n",
       "    </tr>\n",
       "    <tr>\n",
       "      <th>1</th>\n",
       "      <td>Angola</td>\n",
       "      <td>5.41</td>\n",
       "      <td>65.2</td>\n",
       "    </tr>\n",
       "    <tr>\n",
       "      <th>2</th>\n",
       "      <td>Albania</td>\n",
       "      <td>1.70</td>\n",
       "      <td>77.9</td>\n",
       "    </tr>\n",
       "    <tr>\n",
       "      <th>3</th>\n",
       "      <td>United Arab Emirates</td>\n",
       "      <td>1.69</td>\n",
       "      <td>74.0</td>\n",
       "    </tr>\n",
       "    <tr>\n",
       "      <th>4</th>\n",
       "      <td>Argentina</td>\n",
       "      <td>2.23</td>\n",
       "      <td>74.6</td>\n",
       "    </tr>\n",
       "  </tbody>\n",
       "</table>\n",
       "</div>"
      ],
      "text/plain": [
       "                country  Fertility_rate(births)  Life_expectancy(yr)\n",
       "0           Afghanistan                    4.04                 63.4\n",
       "1                Angola                    5.41                 65.2\n",
       "2               Albania                    1.70                 77.9\n",
       "3  United Arab Emirates                    1.69                 74.0\n",
       "4             Argentina                    2.23                 74.6"
      ]
     },
     "execution_count": 11,
     "metadata": {},
     "output_type": "execute_result"
    }
   ],
   "source": [
    "# read a .csv file in as a DataFrame\n",
    "data = pd.read_csv('CE93_08_Fertility_Expectancy.csv')\n",
    "\n",
    "# returns the first 5 rows of the data set for fertility rate\n",
    "data.head()\n"
   ]
  },
  {
   "cell_type": "markdown",
   "id": "57dc114f",
   "metadata": {},
   "source": [
    "Now, we check the shape of data file."
   ]
  },
  {
   "cell_type": "code",
   "execution_count": 13,
   "id": "5eaabc33",
   "metadata": {},
   "outputs": [
    {
     "name": "stdout",
     "output_type": "stream",
     "text": [
      "\n",
      "The Data set has 185 rows of countries and 3 columns.\n"
     ]
    }
   ],
   "source": [
    "# get the shape (rows, columns)\n",
    "rows, columns = data.shape\n",
    "# Print the number of rows and columns\n",
    "print(f'\\nThe Data set has {rows} rows of countries and {columns} columns.')\n"
   ]
  },
  {
   "cell_type": "code",
   "execution_count": 14,
   "id": "bbc7dbe6",
   "metadata": {},
   "outputs": [
    {
     "data": {
      "text/html": [
       "<div>\n",
       "<style scoped>\n",
       "    .dataframe tbody tr th:only-of-type {\n",
       "        vertical-align: middle;\n",
       "    }\n",
       "\n",
       "    .dataframe tbody tr th {\n",
       "        vertical-align: top;\n",
       "    }\n",
       "\n",
       "    .dataframe thead th {\n",
       "        text-align: right;\n",
       "    }\n",
       "</style>\n",
       "<table border=\"1\" class=\"dataframe\">\n",
       "  <thead>\n",
       "    <tr style=\"text-align: right;\">\n",
       "      <th></th>\n",
       "      <th>Fertility_rate(births)</th>\n",
       "      <th>Life_expectancy(yr)</th>\n",
       "    </tr>\n",
       "  </thead>\n",
       "  <tbody>\n",
       "    <tr>\n",
       "      <th>count</th>\n",
       "      <td>185.000000</td>\n",
       "      <td>185.000000</td>\n",
       "    </tr>\n",
       "    <tr>\n",
       "      <th>mean</th>\n",
       "      <td>2.661676</td>\n",
       "      <td>72.394595</td>\n",
       "    </tr>\n",
       "    <tr>\n",
       "      <th>std</th>\n",
       "      <td>1.234484</td>\n",
       "      <td>6.734505</td>\n",
       "    </tr>\n",
       "    <tr>\n",
       "      <th>min</th>\n",
       "      <td>1.230000</td>\n",
       "      <td>52.000000</td>\n",
       "    </tr>\n",
       "    <tr>\n",
       "      <th>25%</th>\n",
       "      <td>1.730000</td>\n",
       "      <td>67.300000</td>\n",
       "    </tr>\n",
       "    <tr>\n",
       "      <th>50%</th>\n",
       "      <td>2.200000</td>\n",
       "      <td>73.200000</td>\n",
       "    </tr>\n",
       "    <tr>\n",
       "      <th>75%</th>\n",
       "      <td>3.490000</td>\n",
       "      <td>77.000000</td>\n",
       "    </tr>\n",
       "    <tr>\n",
       "      <th>max</th>\n",
       "      <td>7.000000</td>\n",
       "      <td>84.900000</td>\n",
       "    </tr>\n",
       "  </tbody>\n",
       "</table>\n",
       "</div>"
      ],
      "text/plain": [
       "       Fertility_rate(births)  Life_expectancy(yr)\n",
       "count              185.000000           185.000000\n",
       "mean                 2.661676            72.394595\n",
       "std                  1.234484             6.734505\n",
       "min                  1.230000            52.000000\n",
       "25%                  1.730000            67.300000\n",
       "50%                  2.200000            73.200000\n",
       "75%                  3.490000            77.000000\n",
       "max                  7.000000            84.900000"
      ]
     },
     "execution_count": 14,
     "metadata": {},
     "output_type": "execute_result"
    }
   ],
   "source": [
    "# data.info()\n",
    "data.describe()"
   ]
  },
  {
   "cell_type": "markdown",
   "id": "8bc4dfff",
   "metadata": {},
   "source": [
    "### Summary Statistics\n",
    "\n",
    "Now, we're gonna compute mearses of central tendency and variability for each data set."
   ]
  },
  {
   "cell_type": "markdown",
   "id": "5dc70607",
   "metadata": {},
   "source": [
    "##### Central tendency\n",
    "- Mean\n",
    "- Median\n",
    "\n",
    "##### Variability\n",
    "- Variance\n",
    "- Standard deviation\n",
    "- Range"
   ]
  },
  {
   "cell_type": "markdown",
   "id": "d73e2099",
   "metadata": {},
   "source": [
    "### Fertility Rate\n"
   ]
  },
  {
   "cell_type": "markdown",
   "id": "47cf929a",
   "metadata": {},
   "source": [
    "First of all, we're gonna calculate means by each conutry and each year using .mean().\n",
    "\n",
    "When getting means by countries, we set a parameter axis as 1 while we set a parameter axis as 0 by years.\n",
    "\n",
    "When it comes to total mean, we set a parameter axis as None."
   ]
  },
  {
   "cell_type": "code",
   "execution_count": 32,
   "id": "548d98f5",
   "metadata": {},
   "outputs": [
    {
     "name": "stdout",
     "output_type": "stream",
     "text": [
      "Mean of Fertility rate: 2.66 births per woman\n"
     ]
    }
   ],
   "source": [
    "\n",
    "fertility_mean = data.iloc[:, 1].mean()\n",
    "print(f'Mean of Fertility rate: {fertility_mean.round(2)} births per woman')"
   ]
  },
  {
   "cell_type": "markdown",
   "id": "54528b51",
   "metadata": {},
   "source": [
    "Next, we're gonna calculate medians by each country and each year.\n",
    "\n",
    "The way is same as mean."
   ]
  },
  {
   "cell_type": "code",
   "execution_count": 33,
   "id": "8abca58f",
   "metadata": {},
   "outputs": [
    {
     "name": "stdout",
     "output_type": "stream",
     "text": [
      "Median of Fertility rate: 2.2 births per woman\n"
     ]
    }
   ],
   "source": [
    "\n",
    "fertility_median = data.iloc[:, 1].median()\n",
    "print(f'Median of Fertility rate: {fertility_median.round(2)} births per woman')"
   ]
  },
  {
   "cell_type": "markdown",
   "id": "572c50a0",
   "metadata": {},
   "source": [
    "Calculate Variance by each country and each year."
   ]
  },
  {
   "cell_type": "code",
   "execution_count": 34,
   "id": "3fe881ab",
   "metadata": {},
   "outputs": [
    {
     "name": "stdout",
     "output_type": "stream",
     "text": [
      "Variance of Fertility rate: 1.52 square births per woman\n"
     ]
    }
   ],
   "source": [
    "\n",
    "fertility_var = data.iloc[:, 1].var()\n",
    "print(f'Variance of Fertility rate: {fertility_var.round(2)} square births per woman')"
   ]
  },
  {
   "cell_type": "markdown",
   "id": "e4579c87",
   "metadata": {},
   "source": [
    "Calculate standard deviation by each country and each year."
   ]
  },
  {
   "cell_type": "code",
   "execution_count": 21,
   "id": "e49bcef0",
   "metadata": {},
   "outputs": [
    {
     "name": "stdout",
     "output_type": "stream",
     "text": [
      "Standard deviation of Fertility rate: 1.23\n"
     ]
    }
   ],
   "source": [
    "\n",
    "fertility_stdev = data.iloc[:, 1].std()\n",
    "print(f'Standard deviation of Fertility rate: {fertility_stdev.round(2)}')"
   ]
  },
  {
   "cell_type": "markdown",
   "id": "baf9c0e2",
   "metadata": {},
   "source": [
    "Calculate Range."
   ]
  },
  {
   "cell_type": "code",
   "execution_count": 23,
   "id": "9eff6de6",
   "metadata": {},
   "outputs": [
    {
     "name": "stdout",
     "output_type": "stream",
     "text": [
      "Range of Fertility: 5.77\n"
     ]
    }
   ],
   "source": [
    "range = data.iloc[:,1].max(axis=None)- data.iloc[:,1].min(axis=None)\n",
    "\n",
    "print(f'Range of Fertility: {range.round(2)}')"
   ]
  },
  {
   "cell_type": "markdown",
   "id": "c2e6ff42",
   "metadata": {},
   "source": [
    "### Life_expectancy"
   ]
  },
  {
   "cell_type": "code",
   "execution_count": 35,
   "id": "24e4c0db",
   "metadata": {},
   "outputs": [
    {
     "name": "stdout",
     "output_type": "stream",
     "text": [
      "Mean of life expectancy: 72.39 years\n"
     ]
    }
   ],
   "source": [
    "\n",
    "life_mean = data.iloc[:, 2].mean()\n",
    "print(f'Mean of life expectancy: {life_mean.round(2)} years')"
   ]
  },
  {
   "cell_type": "code",
   "execution_count": 36,
   "id": "acd7fa47",
   "metadata": {},
   "outputs": [
    {
     "name": "stdout",
     "output_type": "stream",
     "text": [
      "Median of life expectancy: 73.2 years\n"
     ]
    }
   ],
   "source": [
    "\n",
    "life_median = data.iloc[:, 2].median()\n",
    "print(f'Median of life expectancy: {life_median.round(2)} years')"
   ]
  },
  {
   "cell_type": "code",
   "execution_count": 40,
   "id": "a4863701",
   "metadata": {},
   "outputs": [
    {
     "name": "stdout",
     "output_type": "stream",
     "text": [
      "Variance of life expectancy: 45.35 years**2\n"
     ]
    }
   ],
   "source": [
    "\n",
    "life_var = data.iloc[:, 2].var()\n",
    "print(f'Variance of life expectancy: {life_var.round(2)} years**2')"
   ]
  },
  {
   "cell_type": "code",
   "execution_count": 43,
   "id": "e0f97f14",
   "metadata": {},
   "outputs": [
    {
     "name": "stdout",
     "output_type": "stream",
     "text": [
      "Standard deviation of life expectancy: 6.73 years\n"
     ]
    }
   ],
   "source": [
    "\n",
    "life_stdev = data.iloc[:, 2].std()\n",
    "print(f'Standard deviation of life expectancy: {life_stdev.round(2)} years')"
   ]
  },
  {
   "cell_type": "code",
   "execution_count": 44,
   "id": "705f91a3",
   "metadata": {},
   "outputs": [
    {
     "name": "stdout",
     "output_type": "stream",
     "text": [
      "Range of life expectancy: 32.9\n"
     ]
    }
   ],
   "source": [
    "life_range = data.iloc[:,2].max(axis=None)- data.iloc[:,2].min(axis=None)\n",
    "\n",
    "print(f'Range of life expectancy: {life_range.round(2)}')"
   ]
  },
  {
   "cell_type": "code",
   "execution_count": null,
   "id": "318bfa5d",
   "metadata": {},
   "outputs": [],
   "source": []
  },
  {
   "cell_type": "code",
   "execution_count": null,
   "id": "411bd45d",
   "metadata": {},
   "outputs": [],
   "source": []
  }
 ],
 "metadata": {
  "kernelspec": {
   "display_name": "Python 3 (ipykernel)",
   "language": "python",
   "name": "python3"
  },
  "language_info": {
   "codemirror_mode": {
    "name": "ipython",
    "version": 3
   },
   "file_extension": ".py",
   "mimetype": "text/x-python",
   "name": "python",
   "nbconvert_exporter": "python",
   "pygments_lexer": "ipython3",
   "version": "3.11.8"
  }
 },
 "nbformat": 4,
 "nbformat_minor": 5
}
