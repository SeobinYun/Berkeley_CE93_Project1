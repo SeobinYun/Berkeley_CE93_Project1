{
 "cells": [
  {
   "cell_type": "markdown",
   "id": "3cd98910-d4db-4db7-8110-85f8e3a58a47",
   "metadata": {},
   "source": [
    "# CE 93: Engineering Data Analysis \n",
    "# Fertility Rate and Life Expectancy Among Countries"
   ]
  },
  {
   "cell_type": "markdown",
   "id": "732a6d45-9116-475b-9a18-b8811a568528",
   "metadata": {},
   "source": [
    "##### By: *Seobin Yun* and *Connor Clark*"
   ]
  },
  {
   "cell_type": "markdown",
   "id": "8dbde039-b17c-481a-bdf2-fcd42692e0b1",
   "metadata": {},
   "source": [
    "## Libraries Required for Exploratory Data Analysis (EDA)\n",
    "\n",
    "The code that follows loads in the necessary libraries for analysis"
   ]
  },
  {
   "cell_type": "code",
   "execution_count": 38,
   "id": "204212b7-d948-4b5a-8a00-e1f20a031289",
   "metadata": {},
   "outputs": [],
   "source": [
    "# import python library / packages \n",
    "import numpy as np                                 # ndarrays for gridded data\n",
    "import pandas as pd                                # DataFrames for tabular data\n",
    "import matplotlib.pyplot as plt                    # plotting\n",
    "import random                                      # random sampling\n",
    "from scipy.stats import *                          # common distributions, t-test\n",
    "import statistics as stats                         # statistics like mode\n",
    "from sklearn.linear_model import LinearRegression  # linear regression\n",
    "import statsmodels.api as sm                       # linear regression"
   ]
  },
  {
   "cell_type": "markdown",
   "id": "c8fa22d7-3070-401b-b654-1614eb35df62",
   "metadata": {},
   "source": [
    "## **1. Introduction**\n",
    "\n",
    "In recent years, earth can expect to introduce an astonishing 140 million\n",
    "newborns to the new world! Without proper context, one might assume this\n",
    "number to be extremely large or extremely small, depending on who you ask.\n",
    "Nonetheless, certain variables should be considered when discussing the topic of\n",
    "newborns each year, which we will refer to as fertility rate. The variable we will\n",
    "focus on in relation to the fertility rate will be life expectancy. In this report, we\n",
    "will analyze the potential relationship between life expectancy and fertility rate\n",
    "within the United States for given years.\n",
    "Firstly, let's define our variables to better understand the quantity assigned to\n",
    "each variable. Fertility rate is define as the number of births per woman, while\n",
    "the life expectancy is defined as the expected amount of years for that newborn\n",
    "to live. To set up such a relationship, we have selected two data sets, both from\n",
    "the CE93 Data Summaries spreadsheet: (1) Fertility Rate (births) and (2) Average\n",
    "Life Expectancy (yr). The data can be observed or downloaded into a CSV file by\n",
    "visiting the gapminder website (https://www.gapminder.org/data/), where both\n",
    "datasets have the year, as columns, along the x-axis, and the country, as rows, In [3]:\n",
    "along the y-axis, with corresponding values in each cell. Along with the data\n",
    "itself, the site provides sources from which data was collected to compile the\n",
    "data set itself. However, we will instead be utilizing the provided data frame,\n",
    "which merges the two data sets into a single data frame, rather than working\n",
    "with two separate tables.\n",
    "We have shown an idea of what you can expect from the datasets below. As one\n",
    "can observe, the common variable between both data sets is the country along\n",
    "with the corresponding year, which is where we will perform our analysis.\n",
    "\n",
    "|Feature|Units|Description|\n",
    "|:-|:-|:-|\n",
    "|country|N/A|country name|\n",
    "|Fertility_rate|births|Average annual birth rate per country|\n",
    "|Life_expectancy|year|Average lifespan of individuals |\n",
    "\n"
   ]
  },
  {
   "cell_type": "markdown",
   "id": "e93a302c-a014-43ef-9b29-f5ed5f3950b3",
   "metadata": {},
   "source": [
    "### Raw Data\n",
    "Here, we have shown the table that will allow us to make calculations in order to\n",
    "show the relationship, if any, between a country's fertility rate and life\n",
    "expectancy\n"
   ]
  },
  {
   "cell_type": "code",
   "execution_count": 39,
   "id": "3a7ba620-68df-4872-81b5-e84f282e386c",
   "metadata": {},
   "outputs": [
    {
     "data": {
      "text/html": [
       "<div>\n",
       "<style scoped>\n",
       "    .dataframe tbody tr th:only-of-type {\n",
       "        vertical-align: middle;\n",
       "    }\n",
       "\n",
       "    .dataframe tbody tr th {\n",
       "        vertical-align: top;\n",
       "    }\n",
       "\n",
       "    .dataframe thead th {\n",
       "        text-align: right;\n",
       "    }\n",
       "</style>\n",
       "<table border=\"1\" class=\"dataframe\">\n",
       "  <thead>\n",
       "    <tr style=\"text-align: right;\">\n",
       "      <th></th>\n",
       "      <th>country</th>\n",
       "      <th>Fertility_rate(births)</th>\n",
       "      <th>Life_expectancy(yr)</th>\n",
       "    </tr>\n",
       "  </thead>\n",
       "  <tbody>\n",
       "    <tr>\n",
       "      <th>0</th>\n",
       "      <td>Afghanistan</td>\n",
       "      <td>4.04</td>\n",
       "      <td>63.4</td>\n",
       "    </tr>\n",
       "    <tr>\n",
       "      <th>1</th>\n",
       "      <td>Angola</td>\n",
       "      <td>5.41</td>\n",
       "      <td>65.2</td>\n",
       "    </tr>\n",
       "    <tr>\n",
       "      <th>2</th>\n",
       "      <td>Albania</td>\n",
       "      <td>1.70</td>\n",
       "      <td>77.9</td>\n",
       "    </tr>\n",
       "    <tr>\n",
       "      <th>3</th>\n",
       "      <td>United Arab Emirates</td>\n",
       "      <td>1.69</td>\n",
       "      <td>74.0</td>\n",
       "    </tr>\n",
       "    <tr>\n",
       "      <th>4</th>\n",
       "      <td>Argentina</td>\n",
       "      <td>2.23</td>\n",
       "      <td>74.6</td>\n",
       "    </tr>\n",
       "  </tbody>\n",
       "</table>\n",
       "</div>"
      ],
      "text/plain": [
       "                country  Fertility_rate(births)  Life_expectancy(yr)\n",
       "0           Afghanistan                    4.04                 63.4\n",
       "1                Angola                    5.41                 65.2\n",
       "2               Albania                    1.70                 77.9\n",
       "3  United Arab Emirates                    1.69                 74.0\n",
       "4             Argentina                    2.23                 74.6"
      ]
     },
     "execution_count": 39,
     "metadata": {},
     "output_type": "execute_result"
    }
   ],
   "source": [
    "# read a .csv file in as a DataFrame\n",
    "data = pd.read_csv('CE93_08_Fertility_Expectancy.csv')\n",
    "\n",
    "# returns the first 5 rows of the data set for fertility rate\n",
    "data.head()\n"
   ]
  },
  {
   "cell_type": "markdown",
   "id": "57dc114f",
   "metadata": {},
   "source": [
    "Now, we check the shape of data file."
   ]
  },
  {
   "cell_type": "code",
   "execution_count": 40,
   "id": "5eaabc33",
   "metadata": {},
   "outputs": [
    {
     "name": "stdout",
     "output_type": "stream",
     "text": [
      "The Data Frame has 185 rows, each representing a country, and 3 columns, where these are the labels for country, Fertility rate, and Life Expectancy.\n"
     ]
    }
   ],
   "source": [
    "# get the shape (rows, columns)\n",
    "rows, columns = data.shape\n",
    "# Print the number of rows and columns\n",
    "print(f'The Data Frame has {rows} rows, each representing a country, and {columns} columns, where these are the labels for country, Fertility rate, and Life Expectancy.')"
   ]
  },
  {
   "cell_type": "markdown",
   "id": "5f02c886",
   "metadata": {},
   "source": [
    "### Country\n",
    "The country name is simply just the country"
   ]
  },
  {
   "cell_type": "code",
   "execution_count": 41,
   "id": "ef0669fe",
   "metadata": {},
   "outputs": [
    {
     "data": {
      "text/plain": [
       "0             Afghanistan\n",
       "1                  Angola\n",
       "2                 Albania\n",
       "3    United Arab Emirates\n",
       "4               Argentina\n",
       "Name: country, dtype: object"
      ]
     },
     "execution_count": 41,
     "metadata": {},
     "output_type": "execute_result"
    }
   ],
   "source": [
    "country = data['country']\n",
    "country.head()"
   ]
  },
  {
   "cell_type": "markdown",
   "id": "51a2d279-47e4-48b9-b07a-4ce9f2373346",
   "metadata": {},
   "source": [
    "### Fertility Rate\n",
    "Here, we show the actual data from the csv file below. To make coding and\n",
    "analysis easier, we have named the data for the fertility rate, fr. At a glance, we\n",
    "see that the data is of type float64. Here we have shown the first 5 entries of the\n",
    "data for fertility rate. Note that the ordering for this array goes by alphabetical\n",
    "order in accordance with the country.\n"
   ]
  },
  {
   "cell_type": "code",
   "execution_count": 42,
   "id": "8026f574",
   "metadata": {},
   "outputs": [
    {
     "data": {
      "text/plain": [
       "0    4.04\n",
       "1    5.41\n",
       "2    1.70\n",
       "3    1.69\n",
       "4    2.23\n",
       "Name: Fertility_rate(births), dtype: float64"
      ]
     },
     "execution_count": 42,
     "metadata": {},
     "output_type": "execute_result"
    }
   ],
   "source": [
    "fr = data['Fertility_rate(births)']\n",
    "fr.head()"
   ]
  },
  {
   "cell_type": "markdown",
   "id": "f8102d62-ad71-4d79-a576-20d8ca167d5a",
   "metadata": {},
   "source": [
    "### Life Expectancy\n",
    "Similarily, we have shown the actual data for the life expectancy csv file below,\n",
    "and have named the variable le. Again, the number of entries for life expectancy\n",
    "will be equal to the number of entries of countries and fertility rate. We have\n",
    "outputted the first 5 entries of the data set, where the ordering again is\n",
    "alphabetical by country"
   ]
  },
  {
   "cell_type": "code",
   "execution_count": 43,
   "id": "f1a09ff1",
   "metadata": {},
   "outputs": [
    {
     "data": {
      "text/plain": [
       "0    63.4\n",
       "1    65.2\n",
       "2    77.9\n",
       "3    74.0\n",
       "4    74.6\n",
       "Name: Life_expectancy(yr), dtype: float64"
      ]
     },
     "execution_count": 43,
     "metadata": {},
     "output_type": "execute_result"
    }
   ],
   "source": [
    "le = data['Life_expectancy(yr)']\n",
    "le.head()"
   ]
  },
  {
   "cell_type": "markdown",
   "id": "ab4facce-2a2e-44ce-8ee5-9e3b56f05a99",
   "metadata": {},
   "source": [
    "### Separation of Variables \n",
    "Separating out the data into two different arrays allows for data to be done with\n",
    "ease. Instead of having to do matrix math or algebra in python, we simplify our\n",
    "calculations by reducing the data down to their own arrays. In this format, we\n",
    "can identify statistics for each data set, visualize a specific variable to observe\n",
    "it's behavior in relation to another, and we can determine any independence or\n",
    "dependence between the two variables. Nonetheless, a short and simple way to\n",
    "achieve some basic statistics has been down below, where we have used the\n",
    "describe function to output various summaries for each data set."
   ]
  },
  {
   "cell_type": "code",
   "execution_count": 44,
   "id": "bbc7dbe6",
   "metadata": {},
   "outputs": [
    {
     "data": {
      "text/html": [
       "<div>\n",
       "<style scoped>\n",
       "    .dataframe tbody tr th:only-of-type {\n",
       "        vertical-align: middle;\n",
       "    }\n",
       "\n",
       "    .dataframe tbody tr th {\n",
       "        vertical-align: top;\n",
       "    }\n",
       "\n",
       "    .dataframe thead th {\n",
       "        text-align: right;\n",
       "    }\n",
       "</style>\n",
       "<table border=\"1\" class=\"dataframe\">\n",
       "  <thead>\n",
       "    <tr style=\"text-align: right;\">\n",
       "      <th></th>\n",
       "      <th>Fertility_rate(births)</th>\n",
       "      <th>Life_expectancy(yr)</th>\n",
       "    </tr>\n",
       "  </thead>\n",
       "  <tbody>\n",
       "    <tr>\n",
       "      <th>count</th>\n",
       "      <td>185.000000</td>\n",
       "      <td>185.000000</td>\n",
       "    </tr>\n",
       "    <tr>\n",
       "      <th>mean</th>\n",
       "      <td>2.661676</td>\n",
       "      <td>72.394595</td>\n",
       "    </tr>\n",
       "    <tr>\n",
       "      <th>std</th>\n",
       "      <td>1.234484</td>\n",
       "      <td>6.734505</td>\n",
       "    </tr>\n",
       "    <tr>\n",
       "      <th>min</th>\n",
       "      <td>1.230000</td>\n",
       "      <td>52.000000</td>\n",
       "    </tr>\n",
       "    <tr>\n",
       "      <th>25%</th>\n",
       "      <td>1.730000</td>\n",
       "      <td>67.300000</td>\n",
       "    </tr>\n",
       "    <tr>\n",
       "      <th>50%</th>\n",
       "      <td>2.200000</td>\n",
       "      <td>73.200000</td>\n",
       "    </tr>\n",
       "    <tr>\n",
       "      <th>75%</th>\n",
       "      <td>3.490000</td>\n",
       "      <td>77.000000</td>\n",
       "    </tr>\n",
       "    <tr>\n",
       "      <th>max</th>\n",
       "      <td>7.000000</td>\n",
       "      <td>84.900000</td>\n",
       "    </tr>\n",
       "  </tbody>\n",
       "</table>\n",
       "</div>"
      ],
      "text/plain": [
       "       Fertility_rate(births)  Life_expectancy(yr)\n",
       "count              185.000000           185.000000\n",
       "mean                 2.661676            72.394595\n",
       "std                  1.234484             6.734505\n",
       "min                  1.230000            52.000000\n",
       "25%                  1.730000            67.300000\n",
       "50%                  2.200000            73.200000\n",
       "75%                  3.490000            77.000000\n",
       "max                  7.000000            84.900000"
      ]
     },
     "execution_count": 44,
     "metadata": {},
     "output_type": "execute_result"
    }
   ],
   "source": [
    "# data.info()\n",
    "data.describe()"
   ]
  },
  {
   "cell_type": "markdown",
   "id": "6910f49e",
   "metadata": {},
   "source": [
    "## **2. Summary Statistics**"
   ]
  },
  {
   "cell_type": "markdown",
   "id": "5dc70607",
   "metadata": {},
   "source": [
    "Now, we calculate summary statistics including **measures of central tendency** and **measure of variability** for each column. (fertility rate and life expectancy)\n",
    "\n",
    "##### *Measures of central tendency*\n",
    "1. Mean\n",
    "2. Median\n",
    "\n",
    "##### *Measures of variability*\n",
    "1. Variance\n",
    "2. Standard deviation\n",
    "3. Coefficient of variation"
   ]
  },
  {
   "cell_type": "markdown",
   "id": "d73e2099",
   "metadata": {},
   "source": [
    "### <span style=\"color:blue\">Fertility Rate</span>\n"
   ]
  },
  {
   "cell_type": "markdown",
   "id": "586eb90a-2df6-41c1-a8b2-2b4d809c9be4",
   "metadata": {},
   "source": [
    "First of all, we're gonna calculate the worldwide mean of fertility rate. To calculate the mean of fertility rate as a whole, we'll simply take our data for fertility rate, add each value in the array together, and divided by the length, or number of entries, of the array. Another simple way to do this is by simply using **data.mean**, which is what we have down below."
   ]
  },
  {
   "cell_type": "code",
   "execution_count": 45,
   "id": "548d98f5",
   "metadata": {},
   "outputs": [
    {
     "name": "stdout",
     "output_type": "stream",
     "text": [
      "Mean of Fertility rate is 2.66 births.\n"
     ]
    }
   ],
   "source": [
    "\n",
    "fertility_mean = fr.mean()\n",
    "print(f'Mean of Fertility rate is {fertility_mean.round(2)} births.')"
   ]
  },
  {
   "cell_type": "markdown",
   "id": "e5af6297-fb45-4480-83e7-c794e5495369",
   "metadata": {},
   "source": [
    "Next, we'll take the worldwide median of fertility rate, which is the exact middle\n",
    "value of all entries when the array in ordered from smallest to largest value.\n",
    "Again, for simplicity, we have utilitized the function data.median, to do the\n",
    "work for us."
   ]
  },
  {
   "cell_type": "code",
   "execution_count": 46,
   "id": "8abca58f",
   "metadata": {},
   "outputs": [
    {
     "name": "stdout",
     "output_type": "stream",
     "text": [
      "Median of Fertility rate is 2.2 births.\n"
     ]
    }
   ],
   "source": [
    "\n",
    "fertility_median = fr.median()\n",
    "print(f'Median of Fertility rate is {fertility_median.round(2)} births.')"
   ]
  },
  {
   "cell_type": "markdown",
   "id": "559d7071-145b-4ba8-a851-8095575ccb4d",
   "metadata": {},
   "source": [
    "We can analyze that mean of fertility rate (2.66) births is higher than median of fertility rate (2.2 births). Being that the mean of the fertility rate is higher than the median, this indicates that there are outliers within the data. Whenever the mean is greater than the median, the outlier will be of larger value, as larger values increase the average of a data set, while barely affecting the median, if at all. Therefore, we can conclude that this fertility rate data is **right skewed (positively skewed)** and **median** is the best measure of central tendency.\n",
    "\n",
    "Next, we calculate Variance for the fertility rate. Variance is the measure of dispersion of a specific value from the data set's average"
   ]
  },
  {
   "cell_type": "code",
   "execution_count": 47,
   "id": "3fe881ab",
   "metadata": {},
   "outputs": [
    {
     "name": "stdout",
     "output_type": "stream",
     "text": [
      "Variance of Fertility rate is 1.52 square births.\n"
     ]
    }
   ],
   "source": [
    "\n",
    "fertility_var = fr.var()\n",
    "print(f'Variance of Fertility rate is {fertility_var.round(2)} square births.')"
   ]
  },
  {
   "cell_type": "markdown",
   "id": "e4579c87",
   "metadata": {},
   "source": [
    "Calculate standard deviation by each country and each year."
   ]
  },
  {
   "cell_type": "code",
   "execution_count": 48,
   "id": "e49bcef0",
   "metadata": {},
   "outputs": [
    {
     "name": "stdout",
     "output_type": "stream",
     "text": [
      "Standard deviation of Fertility rate is 1.23 births.\n"
     ]
    }
   ],
   "source": [
    "\n",
    "fertility_stdev = fr.std()\n",
    "print(f'Standard deviation of Fertility rate is {fertility_stdev.round(2)} births.')"
   ]
  },
  {
   "cell_type": "markdown",
   "id": "baf9c0e2",
   "metadata": {},
   "source": [
    "Calculate the coefficient of variation of fertility rate."
   ]
  },
  {
   "cell_type": "code",
   "execution_count": 49,
   "id": "9eff6de6",
   "metadata": {},
   "outputs": [
    {
     "name": "stdout",
     "output_type": "stream",
     "text": [
      "Coefficient of variation of Fertility rate is 0.46\n"
     ]
    }
   ],
   "source": [
    "fertility_cv = fertility_stdev / fertility_mean\n",
    "\n",
    "print(f'Coefficient of variation of Fertility rate is {fertility_cv.round(2)}')"
   ]
  },
  {
   "cell_type": "markdown",
   "id": "d88d9d47",
   "metadata": {},
   "source": [
    "We believe that **the Standard Deviation** is the best measure of variability for the fertility rate dataset. This is because it represents the average size of the distances between data points and the mean, and its units match those of the dataset, making interpretation easier."
   ]
  },
  {
   "cell_type": "markdown",
   "id": "c2e6ff42",
   "metadata": {},
   "source": [
    "### <span style=\"color:blue\">Life_expectancy</span>\n"
   ]
  },
  {
   "cell_type": "markdown",
   "id": "c7baeaa4-8aa3-4366-b8cc-465173400cfd",
   "metadata": {},
   "source": [
    "First, we will make use of our separated data set for life expectancy and use it to\n",
    "calculate the worldwide average for life expectancy.\n"
   ]
  },
  {
   "cell_type": "code",
   "execution_count": 50,
   "id": "24e4c0db",
   "metadata": {},
   "outputs": [
    {
     "name": "stdout",
     "output_type": "stream",
     "text": [
      "Mean of life expectancy is 72.39 years\n"
     ]
    }
   ],
   "source": [
    "\n",
    "life_mean = le.mean()\n",
    "print(f'Mean of life expectancy is {life_mean.round(2)} years')"
   ]
  },
  {
   "cell_type": "markdown",
   "id": "3d286a65-5db0-42c4-966a-794b2b84c6c3",
   "metadata": {},
   "source": [
    "Now, we'll use the **.median()** function to calculate the median life expectancy in\n",
    "the world. From these calculations, we will be able to make some early\n",
    "conclusions about the data just from these two calculations alone.\n"
   ]
  },
  {
   "cell_type": "code",
   "execution_count": 51,
   "id": "acd7fa47",
   "metadata": {},
   "outputs": [
    {
     "name": "stdout",
     "output_type": "stream",
     "text": [
      "Median of life expectancy is 73.2 years\n"
     ]
    }
   ],
   "source": [
    "\n",
    "life_median = le.median()\n",
    "print(f'Median of life expectancy is {life_median.round(2)} years')"
   ]
  },
  {
   "cell_type": "markdown",
   "id": "633dedce-584e-42b7-b374-3c5849b0454b",
   "metadata": {},
   "source": [
    "We can analyze that median of life expectancy (73.2 years) is higher than mean\n",
    "of life expectancy (72.39 years). This shows that outliers are on the lower end of\n",
    "the the range, below the median. This will bring the average life expectancy\n",
    "down in return. Thus, we can conlcude that this life expectancy data is **left-skewed(negatively skewed)** and **median** is the best measure of central tendency.\n",
    "\n",
    "Now, we'll make our calculation for the variance of life expectancy.\n"
   ]
  },
  {
   "cell_type": "code",
   "execution_count": 52,
   "id": "a4863701",
   "metadata": {},
   "outputs": [
    {
     "name": "stdout",
     "output_type": "stream",
     "text": [
      "Variance of life expectancy is 45.35 years**2\n"
     ]
    }
   ],
   "source": [
    "\n",
    "life_var = le.var()\n",
    "print(f'Variance of life expectancy is {life_var.round(2)} years**2')"
   ]
  },
  {
   "cell_type": "markdown",
   "id": "2502ae00-dcf4-4d75-9ec7-519c7c568c8b",
   "metadata": {},
   "source": [
    "Being that the variance of life expectancy is in year squared, we can not make\n",
    "relevant conclusions, as the units are do not hold any value. Thus, we'll take the\n",
    "standard deviation of the data to get a better understanding of the variability in\n",
    "our life expectancy data set."
   ]
  },
  {
   "cell_type": "code",
   "execution_count": 53,
   "id": "e0f97f14",
   "metadata": {},
   "outputs": [
    {
     "name": "stdout",
     "output_type": "stream",
     "text": [
      "Standard deviation of life expectancy is 6.73 years\n"
     ]
    }
   ],
   "source": [
    "\n",
    "life_stdev = le.std()\n",
    "print(f'Standard deviation of life expectancy is {life_stdev.round(2)} years')"
   ]
  },
  {
   "cell_type": "code",
   "execution_count": 54,
   "id": "705f91a3",
   "metadata": {},
   "outputs": [
    {
     "name": "stdout",
     "output_type": "stream",
     "text": [
      "Coefficient of variation of life expectancy is 0.09.\n"
     ]
    }
   ],
   "source": [
    "life_cv = life_stdev / life_mean\n",
    "\n",
    "print(f'Coefficient of variation of life expectancy is {life_cv.round(2)}.')"
   ]
  },
  {
   "cell_type": "markdown",
   "id": "f658b0f5",
   "metadata": {},
   "source": [
    "We believe that **the Standard Deviation** is the best measure of variability for the fertility rate dataset. This is because it represents the average size of the distances between data points and the mean, and its units match those of the dataset, making interpretation easier."
   ]
  },
  {
   "cell_type": "markdown",
   "id": "962b9216",
   "metadata": {},
   "source": [
    "Now, we will make a new variable ***Life_expectancy(month)*** that converts the unit of life expectancy **from years(X) to months(Y)**.\n",
    "- X: Life_expectancy(yr)\n",
    "- Y: Life_expectancy(month)\n",
    "\n",
    "The converting equation is as below: \n",
    "$ Y = X*12 $"
   ]
  },
  {
   "cell_type": "code",
   "execution_count": 55,
   "id": "4b06408d",
   "metadata": {},
   "outputs": [
    {
     "data": {
      "text/html": [
       "<div>\n",
       "<style scoped>\n",
       "    .dataframe tbody tr th:only-of-type {\n",
       "        vertical-align: middle;\n",
       "    }\n",
       "\n",
       "    .dataframe tbody tr th {\n",
       "        vertical-align: top;\n",
       "    }\n",
       "\n",
       "    .dataframe thead th {\n",
       "        text-align: right;\n",
       "    }\n",
       "</style>\n",
       "<table border=\"1\" class=\"dataframe\">\n",
       "  <thead>\n",
       "    <tr style=\"text-align: right;\">\n",
       "      <th></th>\n",
       "      <th>country</th>\n",
       "      <th>Fertility_rate(births)</th>\n",
       "      <th>Life_expectancy(yr)</th>\n",
       "      <th>Life_expectancy(month)</th>\n",
       "    </tr>\n",
       "  </thead>\n",
       "  <tbody>\n",
       "    <tr>\n",
       "      <th>0</th>\n",
       "      <td>Afghanistan</td>\n",
       "      <td>4.04</td>\n",
       "      <td>63.4</td>\n",
       "      <td>760.8</td>\n",
       "    </tr>\n",
       "    <tr>\n",
       "      <th>1</th>\n",
       "      <td>Angola</td>\n",
       "      <td>5.41</td>\n",
       "      <td>65.2</td>\n",
       "      <td>782.4</td>\n",
       "    </tr>\n",
       "    <tr>\n",
       "      <th>2</th>\n",
       "      <td>Albania</td>\n",
       "      <td>1.70</td>\n",
       "      <td>77.9</td>\n",
       "      <td>934.8</td>\n",
       "    </tr>\n",
       "    <tr>\n",
       "      <th>3</th>\n",
       "      <td>United Arab Emirates</td>\n",
       "      <td>1.69</td>\n",
       "      <td>74.0</td>\n",
       "      <td>888.0</td>\n",
       "    </tr>\n",
       "    <tr>\n",
       "      <th>4</th>\n",
       "      <td>Argentina</td>\n",
       "      <td>2.23</td>\n",
       "      <td>74.6</td>\n",
       "      <td>895.2</td>\n",
       "    </tr>\n",
       "  </tbody>\n",
       "</table>\n",
       "</div>"
      ],
      "text/plain": [
       "                country  Fertility_rate(births)  Life_expectancy(yr)  \\\n",
       "0           Afghanistan                    4.04                 63.4   \n",
       "1                Angola                    5.41                 65.2   \n",
       "2               Albania                    1.70                 77.9   \n",
       "3  United Arab Emirates                    1.69                 74.0   \n",
       "4             Argentina                    2.23                 74.6   \n",
       "\n",
       "   Life_expectancy(month)  \n",
       "0                   760.8  \n",
       "1                   782.4  \n",
       "2                   934.8  \n",
       "3                   888.0  \n",
       "4                   895.2  "
      ]
     },
     "execution_count": 55,
     "metadata": {},
     "output_type": "execute_result"
    }
   ],
   "source": [
    "data['Life_expectancy(month)'] = data['Life_expectancy(yr)']*12\n",
    "data.head()"
   ]
  },
  {
   "cell_type": "code",
   "execution_count": 56,
   "id": "056294e1",
   "metadata": {},
   "outputs": [
    {
     "data": {
      "text/plain": [
       "0    760.8\n",
       "1    782.4\n",
       "2    934.8\n",
       "3    888.0\n",
       "4    895.2\n",
       "Name: Life_expectancy(month), dtype: float64"
      ]
     },
     "execution_count": 56,
     "metadata": {},
     "output_type": "execute_result"
    }
   ],
   "source": [
    "lem = data['Life_expectancy(month)']\n",
    "lem.head()"
   ]
  },
  {
   "cell_type": "markdown",
   "id": "4880ef48",
   "metadata": {},
   "source": [
    "Now, we will calculate one measure of central tendency and one meausre of variability.\n",
    "\n",
    "- *mean*\n",
    "- *standard deviation*"
   ]
  },
  {
   "cell_type": "code",
   "execution_count": 57,
   "id": "66e550dc",
   "metadata": {},
   "outputs": [
    {
     "name": "stdout",
     "output_type": "stream",
     "text": [
      "Mean of life expectancy is 868.74 months\n"
     ]
    }
   ],
   "source": [
    "le_month = data['Life_expectancy(month)']\n",
    "life_mean_month = le_month.mean()\n",
    "print(f'Mean of life expectancy is {life_mean_month.round(2)} months')"
   ]
  },
  {
   "cell_type": "code",
   "execution_count": 59,
   "id": "94365c1b",
   "metadata": {},
   "outputs": [
    {
     "name": "stdout",
     "output_type": "stream",
     "text": [
      "Standard deviation of life expectancy is 80.81 months\n"
     ]
    }
   ],
   "source": [
    "\n",
    "life_month_stdev = le_month.std()\n",
    "print(f'Standard deviation of life expectancy is {life_month_stdev.round(2)} months')"
   ]
  },
  {
   "cell_type": "markdown",
   "id": "7fd2154c",
   "metadata": {},
   "source": [
    "Since X and Y are in **a linear relationship**, we can compute the mean and standard deviation of the new variable Y using the mean and standard deviation of X."
   ]
  },
  {
   "cell_type": "markdown",
   "id": "a6284c6e",
   "metadata": {},
   "source": [
    "## **3. Visualizations**"
   ]
  },
  {
   "cell_type": "markdown",
   "id": "596a7412",
   "metadata": {},
   "source": [
    "#### Histogram Distrubution of Life Expectancy\n",
    "To illustrate the distributions of life expectancy worldwide, the most useful way to visualize this type of distrubtion is with a histogram. \n",
    "\n",
    "To retrieve the worldwide data for life expectancy, we called on the column from the original data frame which contained every country's life expectancy in an array. \n",
    "We called this array **le**. \n",
    "\n",
    "Once the data is in an array, plotting the data becomes much easier. \n",
    "\n",
    "In plotting a histogram, the values of our actual data will be plotted along the x-axis, which in our case is the life expectancy in years, while the frequency at which each value occurs will be plotted along the y-axis, which is just the number of times a certain life expectancy value occurred in the data. \n",
    "\n",
    "It's useful to note that while these the life expectancy is a discrete variable, creating a bin with a length of 1 year would create an extreme amount of noise in the historgram. \n",
    "\n",
    "To reduce the amount of noise, we decided to set the number of bins at 20, which allows for better interpretation of the histogram"
   ]
  },
  {
   "cell_type": "markdown",
   "id": "77878a42",
   "metadata": {},
   "source": [
    "### Histogram of Life Expectancy and Fertility Rates"
   ]
  },
  {
   "cell_type": "code",
   "execution_count": 60,
   "id": "da191257",
   "metadata": {},
   "outputs": [
    {
     "data": {
      "image/png": "[encoded data removed]",
      "text/plain": [
       "<Figure size 1200x400 with 1 Axes>"
      ]
     },
     "metadata": {},
     "output_type": "display_data"
    }
   ],
   "source": [
    "fig1, ax1 = plt.subplots(nrows = 1, ncols = 1, figsize = (12,4))\n",
    "# Plot histogram\n",
    "ax1.hist(le, bins=20, color='orange', edgecolor='black')\n",
    "ax1.set(title = 'Distribution of Life Expectancy Worldwide',\n",
    "           xlabel = 'Life Expectancy',\n",
    "           ylabel = 'Frequency',\n",
    "          )\n",
    "plt.show()\n"
   ]
  },
  {
   "cell_type": "markdown",
   "id": "756867b9",
   "metadata": {},
   "source": [
    "#### Variability of Life Expectancy from Mean\n",
    "In the previous section, we concluded that the data for life expectancy was leftskewed, or negatively skewed, but that was just us telling you without any\n",
    "context or visualization, and hoping you'd take it as it is. To get a better\n",
    "understanding of why the data for life expectancy is negatively skewed, we have\n",
    "shwon a scatter plot of the life expectancy versus difference from the mean. In\n",
    "short, this graphic will show how far, positively or negatively, each value of life\n",
    "expectancy is from the mean. While there are other ways to create this type of\n",
    "visualization, this scatter plot allows one to visibily observe the outliers in the\n",
    "data. For ease, we have also indicated the 0 point mark on the y-axis as the\n",
    "mean. Data points that intersect this red line are the average. Data points above\n",
    "the average are points that have brought the average up, while data points\n",
    "below the red line are points that have brought the average down. In observing\n",
    "the graph, we can see that a lot of the data points do remain close to the red\n",
    "line, but as one ventures in either direction, the data points become further and\n",
    "further from the red line. We also see that there are two main outliers between\n",
    "the 50 and 55 year range. These two outliers can be recognized as the reason for\n",
    "the negatively skewed data.\n"
   ]
  },
  {
   "cell_type": "code",
   "execution_count": 61,
   "id": "9de17d2d",
   "metadata": {},
   "outputs": [
    {
     "data": {
      "image/png": "[encoded data removed]",
      "text/plain": [
       "<Figure size 1200x600 with 1 Axes>"
      ]
     },
     "metadata": {},
     "output_type": "display_data"
    }
   ],
   "source": [
    "mean_le = np.mean(le)\n",
    "countries = data['country']\n",
    "# Calculate the absolute difference between each life expectancy value and the mean\n",
    "absolute_differences = (le - mean_le)\n",
    "\n",
    "# Plot scatter plot\n",
    "plt.figure(figsize=(12, 6))  # Adjust the figure size if needed\n",
    "plt.scatter(le, absolute_differences, alpha=0.5)\n",
    "\n",
    "plt.title('Differences from Mean Life Expectancy')\n",
    "plt.xlabel('Life Expectancy')\n",
    "plt.ylabel('Difference from Mean')  # Rotate x-axis labels for better readability\n",
    "plt.grid(True, linestyle='--', alpha=0.5)\n",
    "plt.axhline(y=0, color='red', linestyle='-', linewidth=2)\n",
    "# Show the plot\n",
    "plt.tight_layout()  # Adjust layout to prevent clipping of labels\n",
    "plt.show()\n"
   ]
  },
  {
   "cell_type": "markdown",
   "id": "311af672",
   "metadata": {},
   "source": [
    "#### Box Plot of Life Expectancy and Fertility Rate\n",
    "In plotting the box plots, we are able to visual the median life expectancy\n",
    "worldwide, as well as the range of values. This view allows us to view where 50%\n",
    "of the data lies, bewteen the 1st Quartile and the 3rd Quartile, or the 25\n",
    "percentile and the 75th percentile. This type of set up allows for comparison\n",
    "between different country's as well. In the raw data file, there was data included\n",
    "over a range of years for each country. Instead of simply one value per country,\n",
    "each country had one value for each year for life expectancy. With that type of\n",
    "data, one could create a boxplot for each country to show the range, median,\n",
    "and Inter Quartile Range (IQR) for each country. One could also do this to\n",
    "compare life expectancy by year, instead of country, as well. However, being\n",
    "that our merged data set only contained one value for each country, the best\n",
    "visualization for for this boxplot was to show the life expectancy as a whole\n",
    "across the world"
   ]
  },
  {
   "cell_type": "code",
   "execution_count": 62,
   "id": "430d1c24",
   "metadata": {},
   "outputs": [
    {
     "data": {
      "text/plain": [
       "[Text(0.5, 1.0, 'Boxplot of Life Expectancy'),\n",
       " Text(0, 0.5, 'Life Expectancy (years)')]"
      ]
     },
     "execution_count": 62,
     "metadata": {},
     "output_type": "execute_result"
    },
    {
     "data": {
      "image/png": "[encoded data removed]",
      "text/plain": [
       "<Figure size 400x400 with 1 Axes>"
      ]
     },
     "metadata": {},
     "output_type": "display_data"
    }
   ],
   "source": [
    "\n",
    "fig3, ax3 = plt.subplots(nrows = 1, ncols= 1, figsize=(4,4))\n",
    "ax3.boxplot(le)\n",
    "ax3.set(title='Boxplot of Life Expectancy',\n",
    "           ylabel = 'Life Expectancy (years)')\n"
   ]
  },
  {
   "cell_type": "markdown",
   "id": "45f54af4",
   "metadata": {},
   "source": [
    "### Scatter plot between fertility rate and life expectancy\n",
    "\n",
    "We're gonna create a scatter plot between fertility rate and life expectancy using **scatter() method** in matplotlib.\n",
    "\n",
    "X label indicates fertility rate and Y label indicates life expectancy. \n",
    "\n",
    "We set a marker style as a star and a line color as <span style=\"color:green\">green</span>. "
   ]
  },
  {
   "cell_type": "code",
   "execution_count": 63,
   "id": "411bd45d",
   "metadata": {},
   "outputs": [
    {
     "data": {
      "text/plain": [
       "Text(0, 0.5, 'Life Expectancy (yr)')"
      ]
     },
     "execution_count": 63,
     "metadata": {},
     "output_type": "execute_result"
    },
    {
     "data": {
      "image/png": "[encoded data removed]",
      "text/plain": [
       "<Figure size 640x480 with 1 Axes>"
      ]
     },
     "metadata": {},
     "output_type": "display_data"
    }
   ],
   "source": [
    "plt.scatter(x= data['Fertility_rate(births)'], y= data['Life_expectancy(yr)'], c= 'g', marker='*')\n",
    "\n",
    "plt.title('Scatter plot between Fertility rate and Life expectancy')\n",
    "plt.xlabel('Fertility Rate (births)')\n",
    "plt.ylabel('Life Expectancy (yr)')"
   ]
  },
  {
   "cell_type": "markdown",
   "id": "7ca5fc25",
   "metadata": {},
   "source": [
    "There is **a negative association**, meaning, as fertility rate tend to decrease, life expectancy tend to increase, on average. While this may seem\n",
    "counterintuitive, the data suggests that there appears to be a somewhat strong,\n",
    "negative association between the two. But how strong of an association is there\n",
    "between these two variables? We'll discuss this in the next section.\n"
   ]
  },
  {
   "cell_type": "markdown",
   "id": "9b34b3c4",
   "metadata": {},
   "source": [
    "## **4. Independence**\n",
    "\n",
    "We're gonna compute two measures of dependence/independence between fertility rate and life expectancy.\n",
    " \n",
    "\n",
    "1. ***correlation coefficient***\n",
    "2. ***covariance***"
   ]
  },
  {
   "cell_type": "markdown",
   "id": "8e7e7980",
   "metadata": {},
   "source": [
    "First of all, we're gonna calculate a **correlation coefficience** using **numpy corrcoef() method**. Parameter x is fertility rate and parameter y is life expectancy.\n",
    "\n",
    "Since the result of .corrcoef() is matrix, the correlation coefficient between the two data is obtained by specifying row and column values(**[0][1]**)."
   ]
  },
  {
   "cell_type": "code",
   "execution_count": 64,
   "id": "95465137",
   "metadata": {},
   "outputs": [
    {
     "name": "stdout",
     "output_type": "stream",
     "text": [
      "A correlation coefficient between Fertility rate and Life expectancy is -0.76.\n"
     ]
    }
   ],
   "source": [
    "correlation_coefficience = np.corrcoef(x= data['Fertility_rate(births)'], y= data['Life_expectancy(yr)'])\n",
    "print(f'A correlation coefficient between Fertility rate and Life expectancy is {correlation_coefficience[0][1].round(2)}.')"
   ]
  },
  {
   "cell_type": "markdown",
   "id": "03a1f3db",
   "metadata": {},
   "source": [
    "A correlation coefficient of `-0.76` indicates ***a strong negative linear relationship*** between the two datasets. This means that as one dataset increases, the other dataset tends to decrease. This suggests that the more\n",
    "children a woman births, the lower the life expectancy. Now, there are of course\n",
    "other factors that go into such a relationship. Factors like health, resources,\n",
    "education, and many others can all be contributing factors to life expectancy.\n",
    "However, being that we are only analyzing the relationship between fertility rate\n",
    "and life expectancy, these are the conclusions that we can make as of now.\n",
    "\n",
    "The closer the correlation coefficient is to -1, the stronger the negative linear relationship between the variables. \n",
    "\n",
    "Therefore, a correlation coefficient of -0.76 suggests a strong negative linear association between the two variables."
   ]
  },
  {
   "cell_type": "markdown",
   "id": "96ae4cc6",
   "metadata": {},
   "source": [
    "Next, we're gonna caculate **a covariance** between fertility rate and life expectancy using **numpy cov() method**. \n",
    "Parameter x is fertility rate and parameter y is life expectency.\n",
    "\n",
    "Since the result of .cov() is matrix, the covariance between the two data is obtained by specifying row and column values(**[0][1]**)."
   ]
  },
  {
   "cell_type": "code",
   "execution_count": 65,
   "id": "43dfae68",
   "metadata": {},
   "outputs": [
    {
     "name": "stdout",
     "output_type": "stream",
     "text": [
      "A covariance between Fertility rate and Life expectancy is -6.35\n"
     ]
    }
   ],
   "source": [
    "covariance = np.cov(data['Fertility_rate(births)'], y= data['Life_expectancy(yr)'])\n",
    "print(f'A covariance between Fertility rate and Life expectancy is {covariance[0][1].round(2)}')"
   ]
  },
  {
   "cell_type": "markdown",
   "id": "650bf901",
   "metadata": {},
   "source": [
    "A covariance of `-6.35` between two datasets indicates ***a strong negative linear relationship*** between them. \n",
    "\n",
    "This means that as one dataset increases, the other dataset tends to decrease. \n",
    "\n",
    "The negative covariance suggests an inverse relationship between the variables. \n"
   ]
  }
 ],
 "metadata": {
  "kernelspec": {
   "display_name": "Python 3 (ipykernel)",
   "language": "python",
   "name": "python3"
  },
  "language_info": {
   "codemirror_mode": {
    "name": "ipython",
    "version": 3
   },
   "file_extension": ".py",
   "mimetype": "text/x-python",
   "name": "python",
   "nbconvert_exporter": "python",
   "pygments_lexer": "ipython3",
   "version": "3.9.15"
  }
 },
 "nbformat": 4,
 "nbformat_minor": 5
}
